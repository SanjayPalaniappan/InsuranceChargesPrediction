{
 "cells": [
  {
   "cell_type": "code",
   "execution_count": 2,
   "metadata": {},
   "outputs": [],
   "source": [
    "#Importing the required python libraries\n",
    "import pandas as pd\n",
    "import numpy as np\n",
    "import matplotlib.pyplot as plt"
   ]
  },
  {
   "cell_type": "code",
   "execution_count": 3,
   "metadata": {},
   "outputs": [
    {
     "data": {
      "text/html": [
       "<div>\n",
       "<style scoped>\n",
       "    .dataframe tbody tr th:only-of-type {\n",
       "        vertical-align: middle;\n",
       "    }\n",
       "\n",
       "    .dataframe tbody tr th {\n",
       "        vertical-align: top;\n",
       "    }\n",
       "\n",
       "    .dataframe thead th {\n",
       "        text-align: right;\n",
       "    }\n",
       "</style>\n",
       "<table border=\"1\" class=\"dataframe\">\n",
       "  <thead>\n",
       "    <tr style=\"text-align: right;\">\n",
       "      <th></th>\n",
       "      <th>age</th>\n",
       "      <th>sex</th>\n",
       "      <th>bmi</th>\n",
       "      <th>children</th>\n",
       "      <th>smoker</th>\n",
       "      <th>charges</th>\n",
       "    </tr>\n",
       "  </thead>\n",
       "  <tbody>\n",
       "    <tr>\n",
       "      <td>0</td>\n",
       "      <td>19</td>\n",
       "      <td>female</td>\n",
       "      <td>27.900</td>\n",
       "      <td>0</td>\n",
       "      <td>yes</td>\n",
       "      <td>16884.92400</td>\n",
       "    </tr>\n",
       "    <tr>\n",
       "      <td>1</td>\n",
       "      <td>18</td>\n",
       "      <td>male</td>\n",
       "      <td>33.770</td>\n",
       "      <td>1</td>\n",
       "      <td>no</td>\n",
       "      <td>1725.55230</td>\n",
       "    </tr>\n",
       "    <tr>\n",
       "      <td>2</td>\n",
       "      <td>28</td>\n",
       "      <td>male</td>\n",
       "      <td>33.000</td>\n",
       "      <td>3</td>\n",
       "      <td>no</td>\n",
       "      <td>4449.46200</td>\n",
       "    </tr>\n",
       "    <tr>\n",
       "      <td>3</td>\n",
       "      <td>33</td>\n",
       "      <td>male</td>\n",
       "      <td>22.705</td>\n",
       "      <td>0</td>\n",
       "      <td>no</td>\n",
       "      <td>21984.47061</td>\n",
       "    </tr>\n",
       "    <tr>\n",
       "      <td>4</td>\n",
       "      <td>32</td>\n",
       "      <td>male</td>\n",
       "      <td>28.880</td>\n",
       "      <td>0</td>\n",
       "      <td>no</td>\n",
       "      <td>3866.85520</td>\n",
       "    </tr>\n",
       "    <tr>\n",
       "      <td>...</td>\n",
       "      <td>...</td>\n",
       "      <td>...</td>\n",
       "      <td>...</td>\n",
       "      <td>...</td>\n",
       "      <td>...</td>\n",
       "      <td>...</td>\n",
       "    </tr>\n",
       "    <tr>\n",
       "      <td>1333</td>\n",
       "      <td>50</td>\n",
       "      <td>male</td>\n",
       "      <td>30.970</td>\n",
       "      <td>3</td>\n",
       "      <td>no</td>\n",
       "      <td>10600.54830</td>\n",
       "    </tr>\n",
       "    <tr>\n",
       "      <td>1334</td>\n",
       "      <td>18</td>\n",
       "      <td>female</td>\n",
       "      <td>31.920</td>\n",
       "      <td>0</td>\n",
       "      <td>no</td>\n",
       "      <td>2205.98080</td>\n",
       "    </tr>\n",
       "    <tr>\n",
       "      <td>1335</td>\n",
       "      <td>18</td>\n",
       "      <td>female</td>\n",
       "      <td>36.850</td>\n",
       "      <td>0</td>\n",
       "      <td>no</td>\n",
       "      <td>1629.83350</td>\n",
       "    </tr>\n",
       "    <tr>\n",
       "      <td>1336</td>\n",
       "      <td>21</td>\n",
       "      <td>female</td>\n",
       "      <td>25.800</td>\n",
       "      <td>0</td>\n",
       "      <td>no</td>\n",
       "      <td>2007.94500</td>\n",
       "    </tr>\n",
       "    <tr>\n",
       "      <td>1337</td>\n",
       "      <td>61</td>\n",
       "      <td>female</td>\n",
       "      <td>29.070</td>\n",
       "      <td>0</td>\n",
       "      <td>yes</td>\n",
       "      <td>29141.36030</td>\n",
       "    </tr>\n",
       "  </tbody>\n",
       "</table>\n",
       "<p>1338 rows × 6 columns</p>\n",
       "</div>"
      ],
      "text/plain": [
       "      age     sex     bmi  children smoker      charges\n",
       "0      19  female  27.900         0    yes  16884.92400\n",
       "1      18    male  33.770         1     no   1725.55230\n",
       "2      28    male  33.000         3     no   4449.46200\n",
       "3      33    male  22.705         0     no  21984.47061\n",
       "4      32    male  28.880         0     no   3866.85520\n",
       "...   ...     ...     ...       ...    ...          ...\n",
       "1333   50    male  30.970         3     no  10600.54830\n",
       "1334   18  female  31.920         0     no   2205.98080\n",
       "1335   18  female  36.850         0     no   1629.83350\n",
       "1336   21  female  25.800         0     no   2007.94500\n",
       "1337   61  female  29.070         0    yes  29141.36030\n",
       "\n",
       "[1338 rows x 6 columns]"
      ]
     },
     "execution_count": 3,
     "metadata": {},
     "output_type": "execute_result"
    }
   ],
   "source": [
    "#Loading the dataset present in a CSV file\n",
    "insur_data=pd.read_csv('insurance_pre.csv')\n",
    "insur_data"
   ]
  },
  {
   "cell_type": "code",
   "execution_count": 4,
   "metadata": {},
   "outputs": [
    {
     "data": {
      "text/plain": [
       "Index(['age', 'sex', 'bmi', 'children', 'smoker', 'charges'], dtype='object')"
      ]
     },
     "execution_count": 4,
     "metadata": {},
     "output_type": "execute_result"
    }
   ],
   "source": [
    "#Getting the column names of insurance dataset\n",
    "insur_data.columns"
   ]
  },
  {
   "cell_type": "code",
   "execution_count": 5,
   "metadata": {},
   "outputs": [
    {
     "data": {
      "text/html": [
       "<div>\n",
       "<style scoped>\n",
       "    .dataframe tbody tr th:only-of-type {\n",
       "        vertical-align: middle;\n",
       "    }\n",
       "\n",
       "    .dataframe tbody tr th {\n",
       "        vertical-align: top;\n",
       "    }\n",
       "\n",
       "    .dataframe thead th {\n",
       "        text-align: right;\n",
       "    }\n",
       "</style>\n",
       "<table border=\"1\" class=\"dataframe\">\n",
       "  <thead>\n",
       "    <tr style=\"text-align: right;\">\n",
       "      <th></th>\n",
       "      <th>age</th>\n",
       "      <th>bmi</th>\n",
       "      <th>children</th>\n",
       "      <th>charges</th>\n",
       "      <th>sex_male</th>\n",
       "      <th>smoker_yes</th>\n",
       "    </tr>\n",
       "  </thead>\n",
       "  <tbody>\n",
       "    <tr>\n",
       "      <td>0</td>\n",
       "      <td>19</td>\n",
       "      <td>27.900</td>\n",
       "      <td>0</td>\n",
       "      <td>16884.92400</td>\n",
       "      <td>0</td>\n",
       "      <td>1</td>\n",
       "    </tr>\n",
       "    <tr>\n",
       "      <td>1</td>\n",
       "      <td>18</td>\n",
       "      <td>33.770</td>\n",
       "      <td>1</td>\n",
       "      <td>1725.55230</td>\n",
       "      <td>1</td>\n",
       "      <td>0</td>\n",
       "    </tr>\n",
       "    <tr>\n",
       "      <td>2</td>\n",
       "      <td>28</td>\n",
       "      <td>33.000</td>\n",
       "      <td>3</td>\n",
       "      <td>4449.46200</td>\n",
       "      <td>1</td>\n",
       "      <td>0</td>\n",
       "    </tr>\n",
       "    <tr>\n",
       "      <td>3</td>\n",
       "      <td>33</td>\n",
       "      <td>22.705</td>\n",
       "      <td>0</td>\n",
       "      <td>21984.47061</td>\n",
       "      <td>1</td>\n",
       "      <td>0</td>\n",
       "    </tr>\n",
       "    <tr>\n",
       "      <td>4</td>\n",
       "      <td>32</td>\n",
       "      <td>28.880</td>\n",
       "      <td>0</td>\n",
       "      <td>3866.85520</td>\n",
       "      <td>1</td>\n",
       "      <td>0</td>\n",
       "    </tr>\n",
       "    <tr>\n",
       "      <td>...</td>\n",
       "      <td>...</td>\n",
       "      <td>...</td>\n",
       "      <td>...</td>\n",
       "      <td>...</td>\n",
       "      <td>...</td>\n",
       "      <td>...</td>\n",
       "    </tr>\n",
       "    <tr>\n",
       "      <td>1333</td>\n",
       "      <td>50</td>\n",
       "      <td>30.970</td>\n",
       "      <td>3</td>\n",
       "      <td>10600.54830</td>\n",
       "      <td>1</td>\n",
       "      <td>0</td>\n",
       "    </tr>\n",
       "    <tr>\n",
       "      <td>1334</td>\n",
       "      <td>18</td>\n",
       "      <td>31.920</td>\n",
       "      <td>0</td>\n",
       "      <td>2205.98080</td>\n",
       "      <td>0</td>\n",
       "      <td>0</td>\n",
       "    </tr>\n",
       "    <tr>\n",
       "      <td>1335</td>\n",
       "      <td>18</td>\n",
       "      <td>36.850</td>\n",
       "      <td>0</td>\n",
       "      <td>1629.83350</td>\n",
       "      <td>0</td>\n",
       "      <td>0</td>\n",
       "    </tr>\n",
       "    <tr>\n",
       "      <td>1336</td>\n",
       "      <td>21</td>\n",
       "      <td>25.800</td>\n",
       "      <td>0</td>\n",
       "      <td>2007.94500</td>\n",
       "      <td>0</td>\n",
       "      <td>0</td>\n",
       "    </tr>\n",
       "    <tr>\n",
       "      <td>1337</td>\n",
       "      <td>61</td>\n",
       "      <td>29.070</td>\n",
       "      <td>0</td>\n",
       "      <td>29141.36030</td>\n",
       "      <td>0</td>\n",
       "      <td>1</td>\n",
       "    </tr>\n",
       "  </tbody>\n",
       "</table>\n",
       "<p>1338 rows × 6 columns</p>\n",
       "</div>"
      ],
      "text/plain": [
       "      age     bmi  children      charges  sex_male  smoker_yes\n",
       "0      19  27.900         0  16884.92400         0           1\n",
       "1      18  33.770         1   1725.55230         1           0\n",
       "2      28  33.000         3   4449.46200         1           0\n",
       "3      33  22.705         0  21984.47061         1           0\n",
       "4      32  28.880         0   3866.85520         1           0\n",
       "...   ...     ...       ...          ...       ...         ...\n",
       "1333   50  30.970         3  10600.54830         1           0\n",
       "1334   18  31.920         0   2205.98080         0           0\n",
       "1335   18  36.850         0   1629.83350         0           0\n",
       "1336   21  25.800         0   2007.94500         0           0\n",
       "1337   61  29.070         0  29141.36030         0           1\n",
       "\n",
       "[1338 rows x 6 columns]"
      ]
     },
     "execution_count": 5,
     "metadata": {},
     "output_type": "execute_result"
    }
   ],
   "source": [
    "#Converting categorical data into numerical data\n",
    "ins_data_numerical=pd.get_dummies(insur_data,drop_first=True)\n",
    "ins_data_numerical"
   ]
  },
  {
   "cell_type": "code",
   "execution_count": 6,
   "metadata": {},
   "outputs": [
    {
     "data": {
      "text/plain": [
       "Index(['age', 'bmi', 'children', 'charges', 'sex_male', 'smoker_yes'], dtype='object')"
      ]
     },
     "execution_count": 6,
     "metadata": {},
     "output_type": "execute_result"
    }
   ],
   "source": [
    "#Getting the column names of insurance dataset, after converting categorical data to numerical \n",
    "ins_data_numerical.columns"
   ]
  },
  {
   "cell_type": "code",
   "execution_count": 7,
   "metadata": {},
   "outputs": [],
   "source": [
    "#Storing input and output into separate variables\n",
    "indep_ins_Data=ins_data_numerical[['age', 'bmi', 'children', 'sex_male', 'smoker_yes']]\n",
    "dep_ins_data=ins_data_numerical[['charges']]"
   ]
  },
  {
   "cell_type": "code",
   "execution_count": 8,
   "metadata": {},
   "outputs": [],
   "source": [
    "#Splitting data into train and test\n",
    "from sklearn.model_selection import train_test_split\n",
    "X_train,X_test,y_train,y_test=train_test_split(indep_ins_Data,dep_ins_data,test_size=1/3,random_state=0)"
   ]
  },
  {
   "cell_type": "code",
   "execution_count": 9,
   "metadata": {},
   "outputs": [],
   "source": [
    "#Applying standardization to bring data into same scale\n",
    "from sklearn.preprocessing import StandardScaler\n",
    "sc=StandardScaler()\n",
    "X_train=sc.fit_transform(X_train)\n",
    "X_test=sc.transform(X_test)"
   ]
  },
  {
   "cell_type": "code",
   "execution_count": 115,
   "metadata": {},
   "outputs": [
    {
     "name": "stderr",
     "output_type": "stream",
     "text": [
      "C:\\Users\\sanja\\Anaconda3\\lib\\site-packages\\ipykernel_launcher.py:4: DataConversionWarning: A column-vector y was passed when a 1d array was expected. Please change the shape of y to (n_samples,), for example using ravel().\n",
      "  after removing the cwd from sys.path.\n"
     ]
    }
   ],
   "source": [
    "#Building Random Forest model using train data\n",
    "from sklearn.ensemble import RandomForestRegressor\n",
    "rf_regressor=RandomForestRegressor(n_estimators=10000,criterion=\"absolute_error\",max_depth=10,max_features=\"sqrt\",random_state=0)\n",
    "rf_regressor=rf_regressor.fit(X_train,y_train)"
   ]
  },
  {
   "cell_type": "code",
   "execution_count": 116,
   "metadata": {},
   "outputs": [
    {
     "data": {
      "text/plain": [
       "array([10889.19143607,  9361.61125165, 43784.02073661, 13712.92037899,\n",
       "        9774.71923182, 10480.57716052,  2912.94126529, 11314.31203446,\n",
       "        7471.439872  ,  6046.49682188,  6367.89705836, 12515.84440517,\n",
       "        8481.35810657,  5810.38944582, 22748.92851734, 11386.52666116,\n",
       "       13428.63175959,  3970.06365087,  6596.60769161, 32309.32116303,\n",
       "       24990.59939964, 13726.20757473, 10947.16363186, 27663.97305841,\n",
       "        2424.77701206,  5867.70526351,  4379.52778504,  8093.91725014,\n",
       "        3960.96566831,  9931.74693888,  8344.99318859, 45332.26347028,\n",
       "       14141.0032858 , 12381.27473099, 17644.36327169,  4081.42760419,\n",
       "        9144.06160697, 37341.77192982, 38240.37835136,  2297.93589839,\n",
       "        6219.18943098,  4098.73671612, 21704.98496812, 45678.20297018,\n",
       "       36622.27416052,  3913.74918383, 11496.4848377 ,  6734.70877625,\n",
       "        5801.54544786, 13054.95661036,  4344.425408  ,  4927.60656093,\n",
       "       26822.68200605, 44718.96149992, 11781.29282453,  8149.32770959,\n",
       "        3949.18199502, 10307.74323135,  9726.64522444, 14770.22797776,\n",
       "        1972.24857429, 43845.1559858 , 16290.53305122, 15341.42950866,\n",
       "       10973.42915234, 10127.5785932 , 30829.38558559, 37908.94763474,\n",
       "        4984.19313074,  8986.05618239, 14430.19596094, 11935.77402057,\n",
       "       18135.01678697, 14084.13918076, 13353.93326901, 13173.84527687,\n",
       "       10050.19646837, 11374.59184139, 21384.18116049, 44014.53193117,\n",
       "       11432.98485519, 46317.69407141,  3220.98169384,  9444.68369654,\n",
       "       39625.66441625, 20840.74197405,  5010.1511413 ,  2849.9975016 ,\n",
       "       13146.82575693, 37313.9183371 ,  6096.26061108, 12201.35646341,\n",
       "        3419.11740852,  9585.76395682,  8331.38588647,  4693.66310893,\n",
       "       42116.89366777, 41768.1652128 ,  5426.37613059, 11387.95625744,\n",
       "        3576.94665615,  6490.06962246,  6539.67146039, 37293.08324653,\n",
       "       26324.89370429,  4385.64153402, 11212.54733184,  4242.56934585,\n",
       "       11759.65697199, 44338.27922159, 12070.5178727 ,  7005.38285724,\n",
       "        9799.21348131, 33586.61939643, 44246.04320212,  7288.17665451,\n",
       "        3069.32966659, 10452.23558107, 16009.43002259, 10477.47950065,\n",
       "       41578.10853066, 11518.56511556, 13827.12197055,  7627.21533958,\n",
       "        9589.61098751,  5451.34353749, 24459.47968943, 25813.00238758,\n",
       "       46369.66685996,  2006.0844504 ,  9953.76255886,  3909.952175  ,\n",
       "        6298.45745046,  9346.15770603, 33720.03333927, 35054.98348948,\n",
       "       24941.73960831, 12001.17694784, 24627.75198008,  4393.69429708,\n",
       "        2244.48258993, 11812.35164031, 10711.37321693, 11188.00211526,\n",
       "        6147.87104288, 13964.76201089, 18803.71332489,  9212.41987968,\n",
       "        2006.1966166 , 11673.83293017,  6339.62608517, 37137.00052155,\n",
       "        9899.78189004,  4371.78363358,  3754.43301742,  7269.23707021,\n",
       "        3304.33342644,  4473.215542  , 11413.48635563, 10195.93382505,\n",
       "        7259.34437597, 13374.99137781, 13029.58914601,  9509.62379988,\n",
       "        5086.49274442,  7677.54921811, 17711.2824185 ,  7255.34286367,\n",
       "        5002.7147943 ,  2354.0320846 ,  6045.12113681,  5999.07762688,\n",
       "       10140.53121757,  2744.79665719,  7230.96363907,  8265.21885216,\n",
       "        4883.19256374,  6812.10271953, 32419.50702736,  1912.45968468,\n",
       "       14595.34465756,  6643.79542058, 11454.53526609,  4973.84331894,\n",
       "        7447.10916697, 28550.16836437,  2637.04741882,  3573.91749761,\n",
       "       13942.56198173, 10459.53468122, 41554.22270579,  6039.31766252,\n",
       "        5582.70648693, 27057.12997541,  3373.32702708,  2846.02387187,\n",
       "        6865.3672307 ,  6480.09339045,  8089.40517773,  4748.08255495,\n",
       "       11659.95705616, 43809.9514078 , 13808.47519164, 19803.00034932,\n",
       "        9134.90164821, 42517.51596626,  4689.15323313, 10036.43078204,\n",
       "        7641.67868778,  3317.10239254,  9102.26064069, 13583.41256221,\n",
       "        7528.42198765,  4765.3618321 ,  6565.41224029,  3861.56617874,\n",
       "        6680.7010818 ,  6285.01520231, 13908.68133704,  7553.42212905,\n",
       "        8435.90333257,  7923.9618012 , 10741.30111627,  6382.07698401,\n",
       "       12186.69041506, 13926.84936149, 14756.07387301, 12358.79805944,\n",
       "        6982.28644372,  2844.99361923,  2670.62214374,  8450.9947203 ,\n",
       "       14050.41533996,  7577.65723518,  6106.36979005,  7227.08388382,\n",
       "       10796.79138713, 33539.39104275,  6027.14182518, 12146.0611369 ,\n",
       "        5876.64291341, 36124.20861905,  8432.29925531,  9042.45851047,\n",
       "        9942.27277111, 10743.54380764,  3912.81575217,  8692.44922563,\n",
       "        4025.0076461 ,  6694.01765959, 20507.24300506, 44390.72556501,\n",
       "        5242.75595849,  5044.69916335,  3877.71052162,  1742.10706601,\n",
       "        8658.27357845,  2727.30701118,  7070.01182794,  7265.37236244,\n",
       "        8992.11429172, 25566.28989061, 43504.76708987, 15468.17539029,\n",
       "        6513.48716477, 11459.00818877, 40411.34732379, 10613.95669974,\n",
       "       39625.72658408,  1591.27774567, 37919.65140012,  6080.60741488,\n",
       "       12987.85934028,  6741.75985276, 38604.78782366,  5617.82080258,\n",
       "       10173.35921384,  9776.78849908,  4658.32321987, 15534.47931353,\n",
       "       11856.86400746,  8233.31488698, 13749.11770109,  5520.92668801,\n",
       "        6480.44933768,  5494.47459536,  8881.67407398, 22869.26616938,\n",
       "        5009.14176247,  1869.46975701,  3043.63696796, 44893.13198237,\n",
       "       10267.55646298,  4717.47095443, 13541.24600598, 13305.50953391,\n",
       "       33364.73541293,  7392.59022774,  5606.77861898,  9058.92948083,\n",
       "        2299.75001745,  4446.10117584, 19616.44001659, 18505.26295607,\n",
       "       13497.9962832 ,  2866.41156791,  3723.76533615, 10229.61875438,\n",
       "       10268.31755873, 17862.70443705, 20801.5733207 ,  7113.46862146,\n",
       "       18068.28971565,  2700.84211973,  7033.6054616 ,  8177.31811524,\n",
       "       13878.01805123,  3359.88377457,  8731.74399248, 44959.81133321,\n",
       "        4399.72015836,  5113.47805261,  2433.8131286 , 11847.04974338,\n",
       "        4644.19979664, 12186.28206939, 43704.69535452, 19838.51533217,\n",
       "        9383.65726321, 41396.00288365, 14425.98348192,  9399.72595437,\n",
       "        9783.98877897,  6014.6793679 , 28841.80529234,  4787.32990605,\n",
       "       14452.6294791 ,  2781.17372405, 18060.85128199,  3962.51927564,\n",
       "       26809.73887383,  8012.9742018 ,  3661.02988432, 38941.55533154,\n",
       "        7052.268901  ,  5206.67002692, 33464.82413869,  2336.10772763,\n",
       "        9826.49804679,  3938.38036511, 11578.29066174,  3876.52273588,\n",
       "        7202.63634587,  7261.6015378 , 43047.18287836, 11125.55193135,\n",
       "       34716.87985354, 36440.59935989,  6037.02178133,  8688.65259301,\n",
       "        1950.75816395,  4646.6518788 ,  4164.02995214,  9290.81454409,\n",
       "       45417.96215413, 11495.08019967,  2414.74497846, 13027.45308313,\n",
       "        2264.56415903, 11809.43937161,  7392.08881873,  2938.00744507,\n",
       "        4185.49092981, 35544.85323612,  7173.87773506,  2420.66401832,\n",
       "       39733.38570069, 11804.94176128, 43008.25399537, 11597.59981827,\n",
       "        5811.50714265,  2489.03439767,  2307.98583352, 12266.67137195,\n",
       "        5676.35059597,  2484.79614377, 11384.3880132 ,  7278.51819763,\n",
       "        6729.34089238,  6220.38053645,  6737.16858293, 40917.93027493,\n",
       "        2249.61523623, 10787.52860957,  3364.64329002, 13168.51989207,\n",
       "       11358.81379896,  6376.40645314, 19592.25457531, 12239.09891713,\n",
       "       17345.46421074, 16798.43500874,  3461.18096455,  6173.17128964,\n",
       "       12684.10733195,  9441.14148323,  6415.83682702,  3107.52370319,\n",
       "       33723.84071338, 13153.33081975,  7444.7005166 , 13678.46597328,\n",
       "       10658.52945139, 12988.03331681, 44060.80072831,  5465.94698457,\n",
       "        9721.65045549,  2039.61930383, 15440.26309253,  2152.49793757,\n",
       "        7226.66238227,  2260.64592757, 12042.24440484,  7195.40869734,\n",
       "       10911.52504704, 41554.67567046,  5330.42152615, 32394.80309508,\n",
       "       21422.62696752, 11496.51039853, 11664.91821758, 37617.94718315,\n",
       "       10889.55908067,  3702.83810413,  9519.83986257, 22169.68656726,\n",
       "       35880.33359001, 19771.6286945 , 10024.06039872, 37426.15391553,\n",
       "        5371.63823583, 18049.69866199,  3018.11934978, 35015.20257001,\n",
       "        7647.66893499, 16441.54218139])"
      ]
     },
     "execution_count": 116,
     "metadata": {},
     "output_type": "execute_result"
    }
   ],
   "source": [
    "#Predicting the built model on test data\n",
    "y_pred=rf_regressor.predict(X_test)\n",
    "y_pred"
   ]
  },
  {
   "cell_type": "code",
   "execution_count": 117,
   "metadata": {},
   "outputs": [
    {
     "data": {
      "text/plain": [
       "0.8884590029709223"
      ]
     },
     "execution_count": 117,
     "metadata": {},
     "output_type": "execute_result"
    }
   ],
   "source": [
    "#Calculating R^2 value\n",
    "from sklearn.metrics import r2_score\n",
    "rsquared_value=r2_score(y_test,y_pred)\n",
    "rsquared_value"
   ]
  },
  {
   "cell_type": "code",
   "execution_count": 110,
   "metadata": {},
   "outputs": [],
   "source": [
    "# Considering final model to roll on for deployment\n",
    "import pickle\n",
    "fileName='InsuranceChargesPred_FinalModel.sav'\n",
    "pickle.dump(rf_regressor,open(fileName,'wb'))"
   ]
  },
  {
   "cell_type": "code",
   "execution_count": 111,
   "metadata": {},
   "outputs": [
    {
     "data": {
      "text/plain": [
       "array([16150.38711215])"
      ]
     },
     "execution_count": 111,
     "metadata": {},
     "output_type": "execute_result"
    }
   ],
   "source": [
    "loaded_model=pickle.load(open(fileName,'rb'))\n",
    "result=loaded_model.predict([[30,20.9,0,1,0]])\n",
    "result"
   ]
  },
  {
   "cell_type": "code",
   "execution_count": null,
   "metadata": {},
   "outputs": [],
   "source": []
  }
 ],
 "metadata": {
  "kernelspec": {
   "display_name": "Python 3",
   "language": "python",
   "name": "python3"
  },
  "language_info": {
   "codemirror_mode": {
    "name": "ipython",
    "version": 3
   },
   "file_extension": ".py",
   "mimetype": "text/x-python",
   "name": "python",
   "nbconvert_exporter": "python",
   "pygments_lexer": "ipython3",
   "version": "3.7.4"
  }
 },
 "nbformat": 4,
 "nbformat_minor": 2
}
