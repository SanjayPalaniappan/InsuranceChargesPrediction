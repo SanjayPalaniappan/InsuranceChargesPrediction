{
 "cells": [
  {
   "cell_type": "code",
   "execution_count": 140,
   "metadata": {},
   "outputs": [],
   "source": [
    "#Importing the required libraries\n",
    "import pandas as pd\n",
    "import numpy as np\n",
    "import matplotlib.pyplot as plt"
   ]
  },
  {
   "cell_type": "code",
   "execution_count": 141,
   "metadata": {},
   "outputs": [
    {
     "data": {
      "text/html": [
       "<div>\n",
       "<style scoped>\n",
       "    .dataframe tbody tr th:only-of-type {\n",
       "        vertical-align: middle;\n",
       "    }\n",
       "\n",
       "    .dataframe tbody tr th {\n",
       "        vertical-align: top;\n",
       "    }\n",
       "\n",
       "    .dataframe thead th {\n",
       "        text-align: right;\n",
       "    }\n",
       "</style>\n",
       "<table border=\"1\" class=\"dataframe\">\n",
       "  <thead>\n",
       "    <tr style=\"text-align: right;\">\n",
       "      <th></th>\n",
       "      <th>age</th>\n",
       "      <th>sex</th>\n",
       "      <th>bmi</th>\n",
       "      <th>children</th>\n",
       "      <th>smoker</th>\n",
       "      <th>charges</th>\n",
       "    </tr>\n",
       "  </thead>\n",
       "  <tbody>\n",
       "    <tr>\n",
       "      <td>0</td>\n",
       "      <td>19</td>\n",
       "      <td>female</td>\n",
       "      <td>27.900</td>\n",
       "      <td>0</td>\n",
       "      <td>yes</td>\n",
       "      <td>16884.92400</td>\n",
       "    </tr>\n",
       "    <tr>\n",
       "      <td>1</td>\n",
       "      <td>18</td>\n",
       "      <td>male</td>\n",
       "      <td>33.770</td>\n",
       "      <td>1</td>\n",
       "      <td>no</td>\n",
       "      <td>1725.55230</td>\n",
       "    </tr>\n",
       "    <tr>\n",
       "      <td>2</td>\n",
       "      <td>28</td>\n",
       "      <td>male</td>\n",
       "      <td>33.000</td>\n",
       "      <td>3</td>\n",
       "      <td>no</td>\n",
       "      <td>4449.46200</td>\n",
       "    </tr>\n",
       "    <tr>\n",
       "      <td>3</td>\n",
       "      <td>33</td>\n",
       "      <td>male</td>\n",
       "      <td>22.705</td>\n",
       "      <td>0</td>\n",
       "      <td>no</td>\n",
       "      <td>21984.47061</td>\n",
       "    </tr>\n",
       "    <tr>\n",
       "      <td>4</td>\n",
       "      <td>32</td>\n",
       "      <td>male</td>\n",
       "      <td>28.880</td>\n",
       "      <td>0</td>\n",
       "      <td>no</td>\n",
       "      <td>3866.85520</td>\n",
       "    </tr>\n",
       "    <tr>\n",
       "      <td>...</td>\n",
       "      <td>...</td>\n",
       "      <td>...</td>\n",
       "      <td>...</td>\n",
       "      <td>...</td>\n",
       "      <td>...</td>\n",
       "      <td>...</td>\n",
       "    </tr>\n",
       "    <tr>\n",
       "      <td>1333</td>\n",
       "      <td>50</td>\n",
       "      <td>male</td>\n",
       "      <td>30.970</td>\n",
       "      <td>3</td>\n",
       "      <td>no</td>\n",
       "      <td>10600.54830</td>\n",
       "    </tr>\n",
       "    <tr>\n",
       "      <td>1334</td>\n",
       "      <td>18</td>\n",
       "      <td>female</td>\n",
       "      <td>31.920</td>\n",
       "      <td>0</td>\n",
       "      <td>no</td>\n",
       "      <td>2205.98080</td>\n",
       "    </tr>\n",
       "    <tr>\n",
       "      <td>1335</td>\n",
       "      <td>18</td>\n",
       "      <td>female</td>\n",
       "      <td>36.850</td>\n",
       "      <td>0</td>\n",
       "      <td>no</td>\n",
       "      <td>1629.83350</td>\n",
       "    </tr>\n",
       "    <tr>\n",
       "      <td>1336</td>\n",
       "      <td>21</td>\n",
       "      <td>female</td>\n",
       "      <td>25.800</td>\n",
       "      <td>0</td>\n",
       "      <td>no</td>\n",
       "      <td>2007.94500</td>\n",
       "    </tr>\n",
       "    <tr>\n",
       "      <td>1337</td>\n",
       "      <td>61</td>\n",
       "      <td>female</td>\n",
       "      <td>29.070</td>\n",
       "      <td>0</td>\n",
       "      <td>yes</td>\n",
       "      <td>29141.36030</td>\n",
       "    </tr>\n",
       "  </tbody>\n",
       "</table>\n",
       "<p>1338 rows × 6 columns</p>\n",
       "</div>"
      ],
      "text/plain": [
       "      age     sex     bmi  children smoker      charges\n",
       "0      19  female  27.900         0    yes  16884.92400\n",
       "1      18    male  33.770         1     no   1725.55230\n",
       "2      28    male  33.000         3     no   4449.46200\n",
       "3      33    male  22.705         0     no  21984.47061\n",
       "4      32    male  28.880         0     no   3866.85520\n",
       "...   ...     ...     ...       ...    ...          ...\n",
       "1333   50    male  30.970         3     no  10600.54830\n",
       "1334   18  female  31.920         0     no   2205.98080\n",
       "1335   18  female  36.850         0     no   1629.83350\n",
       "1336   21  female  25.800         0     no   2007.94500\n",
       "1337   61  female  29.070         0    yes  29141.36030\n",
       "\n",
       "[1338 rows x 6 columns]"
      ]
     },
     "execution_count": 141,
     "metadata": {},
     "output_type": "execute_result"
    }
   ],
   "source": [
    "#Loading the dataset\n",
    "insurance_data=pd.read_csv('insurance_pre.csv')\n",
    "insurance_data"
   ]
  },
  {
   "cell_type": "code",
   "execution_count": 142,
   "metadata": {},
   "outputs": [
    {
     "data": {
      "text/plain": [
       "Index(['age', 'sex', 'bmi', 'children', 'smoker', 'charges'], dtype='object')"
      ]
     },
     "execution_count": 142,
     "metadata": {},
     "output_type": "execute_result"
    }
   ],
   "source": [
    "#Getting the column names\n",
    "insurance_data.columns"
   ]
  },
  {
   "cell_type": "code",
   "execution_count": 143,
   "metadata": {},
   "outputs": [
    {
     "data": {
      "text/html": [
       "<div>\n",
       "<style scoped>\n",
       "    .dataframe tbody tr th:only-of-type {\n",
       "        vertical-align: middle;\n",
       "    }\n",
       "\n",
       "    .dataframe tbody tr th {\n",
       "        vertical-align: top;\n",
       "    }\n",
       "\n",
       "    .dataframe thead th {\n",
       "        text-align: right;\n",
       "    }\n",
       "</style>\n",
       "<table border=\"1\" class=\"dataframe\">\n",
       "  <thead>\n",
       "    <tr style=\"text-align: right;\">\n",
       "      <th></th>\n",
       "      <th>age</th>\n",
       "      <th>bmi</th>\n",
       "      <th>children</th>\n",
       "      <th>charges</th>\n",
       "      <th>sex_male</th>\n",
       "      <th>smoker_yes</th>\n",
       "    </tr>\n",
       "  </thead>\n",
       "  <tbody>\n",
       "    <tr>\n",
       "      <td>0</td>\n",
       "      <td>19</td>\n",
       "      <td>27.900</td>\n",
       "      <td>0</td>\n",
       "      <td>16884.92400</td>\n",
       "      <td>0</td>\n",
       "      <td>1</td>\n",
       "    </tr>\n",
       "    <tr>\n",
       "      <td>1</td>\n",
       "      <td>18</td>\n",
       "      <td>33.770</td>\n",
       "      <td>1</td>\n",
       "      <td>1725.55230</td>\n",
       "      <td>1</td>\n",
       "      <td>0</td>\n",
       "    </tr>\n",
       "    <tr>\n",
       "      <td>2</td>\n",
       "      <td>28</td>\n",
       "      <td>33.000</td>\n",
       "      <td>3</td>\n",
       "      <td>4449.46200</td>\n",
       "      <td>1</td>\n",
       "      <td>0</td>\n",
       "    </tr>\n",
       "    <tr>\n",
       "      <td>3</td>\n",
       "      <td>33</td>\n",
       "      <td>22.705</td>\n",
       "      <td>0</td>\n",
       "      <td>21984.47061</td>\n",
       "      <td>1</td>\n",
       "      <td>0</td>\n",
       "    </tr>\n",
       "    <tr>\n",
       "      <td>4</td>\n",
       "      <td>32</td>\n",
       "      <td>28.880</td>\n",
       "      <td>0</td>\n",
       "      <td>3866.85520</td>\n",
       "      <td>1</td>\n",
       "      <td>0</td>\n",
       "    </tr>\n",
       "    <tr>\n",
       "      <td>...</td>\n",
       "      <td>...</td>\n",
       "      <td>...</td>\n",
       "      <td>...</td>\n",
       "      <td>...</td>\n",
       "      <td>...</td>\n",
       "      <td>...</td>\n",
       "    </tr>\n",
       "    <tr>\n",
       "      <td>1333</td>\n",
       "      <td>50</td>\n",
       "      <td>30.970</td>\n",
       "      <td>3</td>\n",
       "      <td>10600.54830</td>\n",
       "      <td>1</td>\n",
       "      <td>0</td>\n",
       "    </tr>\n",
       "    <tr>\n",
       "      <td>1334</td>\n",
       "      <td>18</td>\n",
       "      <td>31.920</td>\n",
       "      <td>0</td>\n",
       "      <td>2205.98080</td>\n",
       "      <td>0</td>\n",
       "      <td>0</td>\n",
       "    </tr>\n",
       "    <tr>\n",
       "      <td>1335</td>\n",
       "      <td>18</td>\n",
       "      <td>36.850</td>\n",
       "      <td>0</td>\n",
       "      <td>1629.83350</td>\n",
       "      <td>0</td>\n",
       "      <td>0</td>\n",
       "    </tr>\n",
       "    <tr>\n",
       "      <td>1336</td>\n",
       "      <td>21</td>\n",
       "      <td>25.800</td>\n",
       "      <td>0</td>\n",
       "      <td>2007.94500</td>\n",
       "      <td>0</td>\n",
       "      <td>0</td>\n",
       "    </tr>\n",
       "    <tr>\n",
       "      <td>1337</td>\n",
       "      <td>61</td>\n",
       "      <td>29.070</td>\n",
       "      <td>0</td>\n",
       "      <td>29141.36030</td>\n",
       "      <td>0</td>\n",
       "      <td>1</td>\n",
       "    </tr>\n",
       "  </tbody>\n",
       "</table>\n",
       "<p>1338 rows × 6 columns</p>\n",
       "</div>"
      ],
      "text/plain": [
       "      age     bmi  children      charges  sex_male  smoker_yes\n",
       "0      19  27.900         0  16884.92400         0           1\n",
       "1      18  33.770         1   1725.55230         1           0\n",
       "2      28  33.000         3   4449.46200         1           0\n",
       "3      33  22.705         0  21984.47061         1           0\n",
       "4      32  28.880         0   3866.85520         1           0\n",
       "...   ...     ...       ...          ...       ...         ...\n",
       "1333   50  30.970         3  10600.54830         1           0\n",
       "1334   18  31.920         0   2205.98080         0           0\n",
       "1335   18  36.850         0   1629.83350         0           0\n",
       "1336   21  25.800         0   2007.94500         0           0\n",
       "1337   61  29.070         0  29141.36030         0           1\n",
       "\n",
       "[1338 rows x 6 columns]"
      ]
     },
     "execution_count": 143,
     "metadata": {},
     "output_type": "execute_result"
    }
   ],
   "source": [
    "#Converting categorical data into numerical data\n",
    "ins_data_numerical=pd.get_dummies(insurance_data, drop_first=True)\n",
    "ins_data_numerical"
   ]
  },
  {
   "cell_type": "code",
   "execution_count": 144,
   "metadata": {},
   "outputs": [
    {
     "data": {
      "text/plain": [
       "Index(['age', 'bmi', 'children', 'charges', 'sex_male', 'smoker_yes'], dtype='object')"
      ]
     },
     "execution_count": 144,
     "metadata": {},
     "output_type": "execute_result"
    }
   ],
   "source": [
    "#Getting the column names of insurance dataset, after converting categorical data to numerical \n",
    "ins_data_numerical.columns"
   ]
  },
  {
   "cell_type": "code",
   "execution_count": 145,
   "metadata": {},
   "outputs": [],
   "source": [
    "#Storing input and output into separate variables\n",
    "indep_ins_Data=ins_data_numerical[['age', 'bmi', 'children', 'sex_male', 'smoker_yes']]\n",
    "dep_ins_data=ins_data_numerical[['charges']]"
   ]
  },
  {
   "cell_type": "code",
   "execution_count": 146,
   "metadata": {},
   "outputs": [],
   "source": [
    "#Splitting data into train and test\n",
    "from sklearn.model_selection import train_test_split\n",
    "X_train,X_test,y_train,y_test=train_test_split(indep_ins_Data,dep_ins_data,test_size=1/3,random_state=0)"
   ]
  },
  {
   "cell_type": "code",
   "execution_count": 152,
   "metadata": {},
   "outputs": [],
   "source": [
    "#Applying standardization to bring data into same scale\n",
    "from sklearn.preprocessing import StandardScaler\n",
    "sc=StandardScaler()\n",
    "X_train=sc.fit_transform(X_train)\n",
    "X_test=sc.transform(X_test)"
   ]
  },
  {
   "cell_type": "code",
   "execution_count": 159,
   "metadata": {},
   "outputs": [],
   "source": [
    "#Building Decision Tree model using train data\n",
    "from sklearn.tree import DecisionTreeRegressor\n",
    "dt_regressor=DecisionTreeRegressor(criterion='squared_error',splitter=\"random\",max_features=\"log2\")\n",
    "dt_regressor=dt_regressor.fit(X_train,y_train)"
   ]
  },
  {
   "cell_type": "code",
   "execution_count": 160,
   "metadata": {},
   "outputs": [
    {
     "data": {
      "text/plain": [
       "array([ 9288.0267  ,  8930.93455 , 47462.894   , 13405.3903  ,\n",
       "        9264.797   , 21984.47061 ,  1615.7667  , 12495.29085 ,\n",
       "        7281.5056  ,  5253.524   ,  6402.29135 ,  9861.025   ,\n",
       "        7050.642   ,  4571.41305 , 18246.4955  , 11741.726   ,\n",
       "       12142.5786  ,  3292.52985 ,  6338.0756  , 33750.2918  ,\n",
       "       22218.1149  , 13607.36875 ,  9625.92    , 24535.69855 ,\n",
       "        2250.8352  ,  4076.497   ,  4719.73655 ,  8538.28845 ,\n",
       "        3757.8448  ,  8027.968   ,  9414.92    , 48673.5588  ,\n",
       "       21797.0004  , 21797.0004  , 20167.33603 ,  3554.203   ,\n",
       "        8733.22925 , 39774.2763  , 40941.2854  ,  1880.07    ,\n",
       "        4992.3764  ,  2866.091   , 37829.7242  , 49577.6624  ,\n",
       "       36307.7983  ,  3056.3881  , 11741.726   ,  6289.7549  ,\n",
       "        4719.52405 , 12032.326   ,  2473.3341  ,  3481.868   ,\n",
       "       23807.2406  , 49577.6624  , 11093.6229  , 19673.33573 ,\n",
       "        3292.52985 , 11743.299   , 10096.97    , 12913.9924  ,\n",
       "        1252.407   , 40720.55105 , 12363.547   , 25333.33284 ,\n",
       "       12949.1554  , 10579.711   , 33750.2918  , 44585.45587 ,\n",
       "        2913.569   ,  7512.267   , 12233.828   ,  9957.7216  ,\n",
       "       16297.846   , 13887.204   , 12629.8967  , 12233.828   ,\n",
       "        7526.70645 , 32108.66282 , 37701.8768  , 47896.79135 ,\n",
       "       11455.28    , 46200.9851  ,  2250.8352  ,  7147.4728  ,\n",
       "       41661.602   , 19361.9988  ,  3392.9768  ,  2904.088   ,\n",
       "       12913.9924  , 36950.2567  , 10381.4787  ,  9487.6442  ,\n",
       "        3201.24515 ,  8516.829   ,  3704.3545  ,  4350.5144  ,\n",
       "       39727.614   , 40720.55105 ,  4949.7587  , 11566.30055 ,\n",
       "        1826.843   ,  4402.233   , 20177.67113 , 36950.2567  ,\n",
       "       24915.22085 ,  4719.73655 ,  8688.85885 ,  3172.018   ,\n",
       "       13822.803   , 43921.1837  , 12094.478   ,  4463.2051  ,\n",
       "        9447.25035 , 34617.84065 , 48673.5588  ,  6593.5083  ,\n",
       "        2103.08    , 11743.299   , 11945.1327  ,  8944.1151  ,\n",
       "       41949.2441  ,  9264.797   , 14901.5167  ,  5253.524   ,\n",
       "        7633.7206  ,  4529.477   , 24535.69855 , 22218.1149  ,\n",
       "       44400.4064  ,  1534.3045  ,  8516.829   ,  1727.54    ,\n",
       "        5974.3847  ,  8688.85885 , 62592.87309 , 34672.1472  ,\n",
       "       35069.37452 ,  9855.1314  , 23887.6627  ,  1815.8759  ,\n",
       "        1877.9294  , 11743.299   ,  8978.1851  , 10601.63225 ,\n",
       "        5125.2157  , 13887.204   , 31620.00106 , 22395.74424 ,\n",
       "        1628.4709  , 10791.96    ,  5974.3847  , 42112.2356  ,\n",
       "        8964.06055 , 11272.33139 ,  2719.27975 ,  6238.298   ,\n",
       "        2639.0429  , 11272.33139 , 11741.726   ,  8522.003   ,\n",
       "        2497.0383  , 13405.3903  , 12629.8967  , 10450.552   ,\n",
       "        4134.08245 ,  4830.63    , 20167.33603 ,  6128.79745 ,\n",
       "        4239.89265 ,  1634.5734  ,  2497.0383  ,  3847.674   ,\n",
       "        7640.3092  ,  1981.5819  ,  2494.022   ,  4830.63    ,\n",
       "        3847.674   ,  6123.5688  , 25309.489   ,  1705.6245  ,\n",
       "       10806.839   ,  5934.3798  , 11743.9341  ,  2497.0383  ,\n",
       "       11737.84884 , 28868.6639  ,  2250.8352  ,  3056.3881  ,\n",
       "       13880.949   ,  9800.8882  , 39727.614   , 22395.74424 ,\n",
       "        7077.1894  , 35069.37452 ,  2727.3951  , 12609.88702 ,\n",
       "        5584.3057  , 10381.4787  , 19442.3535  ,  4239.89265 ,\n",
       "       10928.849   , 43921.1837  , 13607.36875 , 20745.9891  ,\n",
       "       18157.876   , 42211.1382  ,  3537.703   , 11743.9341  ,\n",
       "        6571.544   ,  1146.7966  ,  8964.06055 , 13844.7972  ,\n",
       "        4340.4409  ,  2855.43755 ,  6289.7549  , 12609.88702 ,\n",
       "        6548.19505 ,  4719.52405 , 14001.1338  ,  6686.4313  ,\n",
       "       20462.99766 ,  7985.815   , 17929.30337 ,  3213.62205 ,\n",
       "       12430.95335 , 14410.9321  , 12646.207   , 12629.8967  ,\n",
       "        8891.1395  ,  3309.7926  ,  1712.227   ,  8068.185   ,\n",
       "       12622.1795  ,  4830.63    ,  4719.52405 ,  7256.7231  ,\n",
       "        9447.25035 , 34672.1472  ,  5855.9025  , 12094.478   ,\n",
       "        5469.0066  , 17560.37975 , 24915.04626 ,  4992.3764  ,\n",
       "        7441.501   ,  9288.0267  ,  2102.2647  ,  7639.41745 ,\n",
       "        2527.81865 ,  6272.4772  , 18328.2381  , 40941.2854  ,\n",
       "        3500.6123  ,  3227.1211  ,  1615.7667  ,  1704.70015 ,\n",
       "        7147.4728  ,  7882.429475,  4915.05985 ,  4719.73655 ,\n",
       "        8603.8234  , 24180.9335  , 43921.1837  , 11881.9696  ,\n",
       "        6289.7549  , 11566.30055 , 40419.0191  ,  8944.1151  ,\n",
       "       38415.474   ,  1137.011   , 36021.0112  ,  4673.3922  ,\n",
       "       31620.00106 , 22395.74424 , 20773.62775 ,  5012.471   ,\n",
       "       11353.2276  , 10096.97    ,  1980.07    , 31620.00106 ,\n",
       "       12815.44495 , 12404.8791  ,  9487.6442  , 21344.8467  ,\n",
       "        5488.262   ,  3861.20965 ,  8965.79575 , 21774.32215 ,\n",
       "        3292.52985 ,  1705.6245  ,  1832.094   , 47896.79135 ,\n",
       "       10791.96    ,  4350.5144  , 13607.36875 , 11674.13    ,\n",
       "       18033.9679  ,  6238.298   ,  4762.329   ,  9144.565   ,\n",
       "        1639.5631  ,  1769.53165 , 12829.4551  , 15518.18025 ,\n",
       "       12233.828   ,  3309.7926  ,  3227.1211  ,  8604.48365 ,\n",
       "       13393.756   , 20167.33603 , 20745.9891  , 20462.99766 ,\n",
       "       16115.3045  ,  2130.6759  ,  5415.6612  ,  3704.3545  ,\n",
       "       26236.57997 ,  1702.4553  ,  6250.435   , 48885.13561 ,\n",
       "        2639.0429  ,  3956.07145 ,  2585.85065 , 20878.78443 ,\n",
       "        3943.5954  , 12629.8967  , 41919.097   , 15006.57945 ,\n",
       "        8964.06055 , 41949.2441  , 13607.36875 , 19442.3535  ,\n",
       "        9288.0267  ,  3861.20965 , 45008.9555  ,  4350.5144  ,\n",
       "       13415.0381  ,  3077.0955  , 15518.18025 ,  3176.8159  ,\n",
       "       24869.8368  ,  6474.013   , 12609.88702 , 38792.6856  ,\n",
       "        6128.79745 ,  7046.7222  , 40720.55105 ,  1639.5631  ,\n",
       "        8891.1395  ,  1842.519   ,  8965.79575 ,  3392.3652  ,\n",
       "       11737.84884 ,  5253.524   , 47055.5321  ,  8539.671   ,\n",
       "       37701.8768  , 37484.4493  ,  5855.9025  ,  6799.458   ,\n",
       "        1252.407   ,  4719.73655 ,  2719.27975 ,  9386.1613  ,\n",
       "       60021.39897 ,  8688.85885 ,  1743.214   , 12124.9924  ,\n",
       "        2020.5523  , 20878.78443 ,  2866.091   ,  1826.843   ,\n",
       "        2897.3235  , 36307.7983  ,  6710.1919  ,  1702.4553  ,\n",
       "       39047.285   , 11394.06555 , 60021.39897 ,  8688.85885 ,\n",
       "        4076.497   ,  2775.19215 ,  2457.21115 , 10806.839   ,\n",
       "        4747.0529  ,  1622.1885  ,  9872.701   ,  7281.5056  ,\n",
       "        5966.8874  , 22395.74424 , 13126.67745 , 37484.4493  ,\n",
       "        1526.312   , 27117.99378 ,  7882.429475,  7443.64305 ,\n",
       "       11566.30055 ,  4438.2634  , 17560.37975 ,  9504.3103  ,\n",
       "       11576.13    , 24513.09126 ,  1615.7667  ,  6571.02435 ,\n",
       "        8965.79575 ,  7046.7222  ,  5257.50795 ,  2130.6759  ,\n",
       "       34439.8559  , 11743.9341  ,  6775.961   , 13405.3903  ,\n",
       "        8823.98575 , 10942.13205 , 44400.4064  ,  3861.20965 ,\n",
       "        6474.013   ,  1526.312   , 13430.265   ,  1534.3045  ,\n",
       "        7133.9025  ,  1634.5734  , 12235.8392  ,  5488.262   ,\n",
       "        8688.85885 , 43578.9394  ,  5272.1758  , 18033.9679  ,\n",
       "       32734.1863  , 11566.30055 ,  7421.19455 , 38126.2465  ,\n",
       "       17929.30337 ,  3353.284   ,  9748.9106  , 21259.37795 ,\n",
       "       36950.2567  , 18328.2381  ,  9866.30485 , 41919.097   ,\n",
       "        4661.28635 , 17560.37975 ,  2632.992   , 34303.1672  ,\n",
       "        4438.2634  , 10579.711   ])"
      ]
     },
     "execution_count": 160,
     "metadata": {},
     "output_type": "execute_result"
    }
   ],
   "source": [
    "#Predicting the model on test data\n",
    "y_pred=dt_regressor.predict(X_test)\n",
    "y_pred"
   ]
  },
  {
   "cell_type": "code",
   "execution_count": 161,
   "metadata": {},
   "outputs": [
    {
     "data": {
      "text/plain": [
       "0.7226870308184636"
      ]
     },
     "execution_count": 161,
     "metadata": {},
     "output_type": "execute_result"
    }
   ],
   "source": [
    "#Calculating R^2 value\n",
    "from sklearn.metrics import r2_score\n",
    "rsquared_value=r2_score(y_test,y_pred)\n",
    "rsquared_value"
   ]
  },
  {
   "cell_type": "code",
   "execution_count": 162,
   "metadata": {},
   "outputs": [
    {
     "data": {
      "text/plain": [
       "array([0.16540854, 0.22252787, 0.01794151, 0.00542521, 0.58869687])"
      ]
     },
     "execution_count": 162,
     "metadata": {},
     "output_type": "execute_result"
    }
   ],
   "source": [
    "# Getting value calculated for importances of features/column\n",
    "dt_regressor.feature_importances_"
   ]
  },
  {
   "cell_type": "code",
   "execution_count": 163,
   "metadata": {},
   "outputs": [
    {
     "data": {
      "text/plain": [
       "2"
      ]
     },
     "execution_count": 163,
     "metadata": {},
     "output_type": "execute_result"
    }
   ],
   "source": [
    "#Getting number of features\n",
    "dt_regressor.max_features_"
   ]
  },
  {
   "cell_type": "code",
   "execution_count": 164,
   "metadata": {},
   "outputs": [
    {
     "data": {
      "text/plain": [
       "<sklearn.tree._tree.Tree at 0x2114ce3ac00>"
      ]
     },
     "execution_count": 164,
     "metadata": {},
     "output_type": "execute_result"
    }
   ],
   "source": [
    "# Forming tree\n",
    "dt_regressor.tree_"
   ]
  },
  {
   "cell_type": "code",
   "execution_count": null,
   "metadata": {},
   "outputs": [],
   "source": [
    "#Plotting and displaying tree\n",
    "from sklearn import tree\n",
    "tree.plot_tree(dt_regressor)\n",
    "plt.show()"
   ]
  },
  {
   "cell_type": "code",
   "execution_count": null,
   "metadata": {},
   "outputs": [],
   "source": []
  }
 ],
 "metadata": {
  "kernelspec": {
   "display_name": "Python 3",
   "language": "python",
   "name": "python3"
  },
  "language_info": {
   "codemirror_mode": {
    "name": "ipython",
    "version": 3
   },
   "file_extension": ".py",
   "mimetype": "text/x-python",
   "name": "python",
   "nbconvert_exporter": "python",
   "pygments_lexer": "ipython3",
   "version": "3.7.4"
  }
 },
 "nbformat": 4,
 "nbformat_minor": 2
}
